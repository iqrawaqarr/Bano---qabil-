{
  "nbformat": 4,
  "nbformat_minor": 0,
  "metadata": {
    "colab": {
      "provenance": [],
      "authorship_tag": "ABX9TyNlBFEFCi4JsjD5Gle5IeNU",
      "include_colab_link": true
    },
    "kernelspec": {
      "name": "python3",
      "display_name": "Python 3"
    },
    "language_info": {
      "name": "python"
    }
  },
  "cells": [
    {
      "cell_type": "markdown",
      "metadata": {
        "id": "view-in-github",
        "colab_type": "text"
      },
      "source": [
        "<a href=\"https://colab.research.google.com/github/iqrawaqarr/Bano---qabil-/blob/main/Untitled14.ipynb\" target=\"_parent\"><img src=\"https://colab.research.google.com/assets/colab-badge.svg\" alt=\"Open In Colab\"/></a>"
      ]
    },
    {
      "cell_type": "code",
      "execution_count": null,
      "metadata": {
        "colab": {
          "base_uri": "https://localhost:8080/"
        },
        "id": "_YUar_3oZVgV",
        "outputId": "b95d1960-552c-4fd6-e890-1f71c4e30375"
      },
      "outputs": [
        {
          "output_type": "stream",
          "name": "stdout",
          "text": [
            "the sum of 5 + 8 is 13\n"
          ]
        }
      ],
      "source": [
        "# calculate two variables and print thier sum\n",
        "num1=5\n",
        "num2=8\n",
        "sum=num1+num2\n",
        "print(\"the sum of\",num1,\"+\",num2,\"is\",sum)\n"
      ]
    },
    {
      "cell_type": "code",
      "source": [],
      "metadata": {
        "id": "Hg8FTUbHd5cx"
      },
      "execution_count": null,
      "outputs": []
    },
    {
      "cell_type": "code",
      "source": [
        "# create a variable , message,and assign it a string value. append another string, \"world!\", to it and print the result\n",
        "a=\"message\"\n",
        "b=\"world\"\n",
        "print(a+\" \"+b)\n"
      ],
      "metadata": {
        "colab": {
          "base_uri": "https://localhost:8080/"
        },
        "id": "L5I-wD_aczaB",
        "outputId": "af8ad0ed-086d-4d01-d0eb-81ca4628bb19"
      },
      "execution_count": null,
      "outputs": [
        {
          "output_type": "stream",
          "name": "stdout",
          "text": [
            "message world\n"
          ]
        }
      ]
    },
    {
      "cell_type": "code",
      "source": [
        "# create a list , fruit , with three different fruits name.print the list and then add a new fruit to it.ptint the updeted list\n",
        "fruits=[\"kiwi,orange,banana\"]\n",
        "print(\"list of fruits:\",fruits)\n",
        "fruits. append ('water melon')\n",
        "print(\"updated list of fruits:\",fruits)"
      ],
      "metadata": {
        "colab": {
          "base_uri": "https://localhost:8080/"
        },
        "id": "LqcgoOkuhO1S",
        "outputId": "44b33766-abd2-4adb-afb6-9f0b95f6c49d"
      },
      "execution_count": null,
      "outputs": [
        {
          "output_type": "stream",
          "name": "stdout",
          "text": [
            "list of fruits: ['kiwi,orange,banana']\n",
            "updated list of fruits: ['kiwi,orange,banana', 'water melon']\n"
          ]
        }
      ]
    },
    {
      "cell_type": "code",
      "source": [
        "# define a variable and assign it a boolean value\n",
        "is_python_fun=True\n",
        "if is_python_fun:\n",
        "  print(\"python is considerd fun!\")\n",
        "else:\n",
        "  print(\"python might not be everyone's\")"
      ],
      "metadata": {
        "id": "Jss8ZzlSoW3E",
        "colab": {
          "base_uri": "https://localhost:8080/"
        },
        "outputId": "4ca7d29e-3c8f-474a-c9a6-796b5e654640"
      },
      "execution_count": 1,
      "outputs": [
        {
          "output_type": "stream",
          "name": "stdout",
          "text": [
            "python is considerd fun!\n"
          ]
        }
      ]
    },
    {
      "cell_type": "code",
      "source": [
        "# floating point value.convert it to an integer and print\n",
        "price=29.66\n",
        "converted_price = int(price)\n",
        "print(f\"original price:{price}\")\n",
        "print(f\"converted price:{converted_price}\")"
      ],
      "metadata": {
        "colab": {
          "base_uri": "https://localhost:8080/"
        },
        "id": "nxEgJBPzcIdH",
        "outputId": "c4561df1-fcd4-4b91-e846-14849a5025e7"
      },
      "execution_count": 2,
      "outputs": [
        {
          "output_type": "stream",
          "name": "stdout",
          "text": [
            "original price:29.66\n",
            "converted price:29\n"
          ]
        }
      ]
    },
    {
      "cell_type": "code",
      "source": [
        "# create a dictionary,student _ info,and print\n",
        "dict={\"name\":\"iqra\" , \"age\" : 24, \"grade\": 'A'}\n",
        "print(dict)"
      ],
      "metadata": {
        "colab": {
          "base_uri": "https://localhost:8080/"
        },
        "id": "G9bW52K_d3s2",
        "outputId": "3672764e-bb69-4d70-defd-bdb87aa82f98"
      },
      "execution_count": 6,
      "outputs": [
        {
          "output_type": "stream",
          "name": "stdout",
          "text": [
            "{'name': 'iqra', 'age': 24, 'grade': 'A'}\n"
          ]
        }
      ]
    },
    {
      "cell_type": "code",
      "source": [],
      "metadata": {
        "id": "kfng0993i_kc"
      },
      "execution_count": null,
      "outputs": []
    },
    {
      "cell_type": "code",
      "source": [
        "# write a program that takes user input for thier age and prints a message addresing thier age group (e.g,\"teenager,\"adult\")\n",
        "user_age=int(input(\"Enter your age:\"))\n",
        "if 14 <=user_age <=18:\n",
        "  print(\"you are a teenager.\")\n",
        "elif user_age >=19:\n",
        "  print(\"you are an adult.\")\n",
        "else:\n",
        "  print(\"you are not a teenager or an adult yet.\")\n",
        "\n"
      ],
      "metadata": {
        "colab": {
          "base_uri": "https://localhost:8080/"
        },
        "id": "IaEi-KRPi_pH",
        "outputId": "ccb4f07a-0c37-41e2-f3ff-01f24e39f8c1"
      },
      "execution_count": 7,
      "outputs": [
        {
          "output_type": "stream",
          "name": "stdout",
          "text": [
            "Enter your age:15\n",
            "you are a teenager.\n"
          ]
        }
      ]
    },
    {
      "cell_type": "code",
      "source": [],
      "metadata": {
        "id": "pB1mD60Xl0fg"
      },
      "execution_count": null,
      "outputs": []
    },
    {
      "cell_type": "code",
      "source": [
        "# define a complex number variable,comp_num,with a real and imaginary part. print both parts separately\n",
        "comp_num=2+5j\n",
        "real_part=comp_num.real\n",
        "imaginary_part=comp_num.imag\n",
        "print(f\"real part:{real_part}\")\n",
        "print(f\"imaginary part:{imaginary_part}\")"
      ],
      "metadata": {
        "colab": {
          "base_uri": "https://localhost:8080/"
        },
        "id": "4Do1All5l0k6",
        "outputId": "18280aae-5c93-4d4e-c446-5b00191068e2"
      },
      "execution_count": 8,
      "outputs": [
        {
          "output_type": "stream",
          "name": "stdout",
          "text": [
            "real part:2.0\n",
            "imaginary part:5.0\n"
          ]
        }
      ]
    },
    {
      "cell_type": "code",
      "source": [],
      "metadata": {
        "id": "qi8NiYj2o2zC"
      },
      "execution_count": null,
      "outputs": []
    },
    {
      "cell_type": "code",
      "source": [
        "# combine to strings using string concatenation,and then use string interpolation to include the length of the resulting string in a print statement.\n",
        "string1=\"Hello,\"\n",
        "string2=\"Hello!\"\n",
        "combined_string=string1+string2\n",
        "length_combined_string=len(combined_string)\n",
        "print(f\"the combined string is:{combined_string}, and its length is:{length_combined_string}\")"
      ],
      "metadata": {
        "colab": {
          "base_uri": "https://localhost:8080/"
        },
        "id": "-0qiF9-Uo24g",
        "outputId": "8f38233b-ae36-4728-d10a-e7c1784f365c"
      },
      "execution_count": 9,
      "outputs": [
        {
          "output_type": "stream",
          "name": "stdout",
          "text": [
            "the combined string is:Hello,Hello!, and its length is:12\n"
          ]
        }
      ]
    },
    {
      "cell_type": "code",
      "source": [
        "# create a tuple,days_of_week, with the names of the days. access and print the third day of the week.\n",
        "days_of_week=(\"monday\", \"tuesday\", \"wednesday\", \"thursday\", \"friday\", \"saturday\", \"sunday\")\n",
        "third_day= days_of_week[2]\n",
        "print(third_day)"
      ],
      "metadata": {
        "colab": {
          "base_uri": "https://localhost:8080/"
        },
        "id": "TP-h7p_Qt10D",
        "outputId": "ff4473bf-58c1-48a1-ed53-be85fee56dc8"
      },
      "execution_count": 13,
      "outputs": [
        {
          "output_type": "stream",
          "name": "stdout",
          "text": [
            "wednesday\n"
          ]
        }
      ]
    }
  ]
}